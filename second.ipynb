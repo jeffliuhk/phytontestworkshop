{
 "cells": [
  {
   "cell_type": "markdown",
   "metadata": {},
   "source": [
    "<ol style=\"font-size:25px;color:red\">\n",
    "<li>first</li>\n",
    "<li>second</li>\n",
    "\n",
    "</ol>\n",
    "\n",
    "<ul>\n",
    "    <li>no first</li>\n",
    "    <li>no second</li>\n",
    "    \n",
    "</ul> \n",
    "\n"
   ]
  },
  {
   "cell_type": "markdown",
   "metadata": {},
   "source": [
    "<p>this is a change</p>"
   ]
  },
  {
   "cell_type": "code",
   "execution_count": 22,
   "metadata": {},
   "outputs": [
    {
     "name": "stdout",
     "output_type": "stream",
     "text": [
      "123 123.456 The result is 123123.456\n"
     ]
    }
   ],
   "source": [
    "x = 123\n",
    "y = 123.456\n",
    "z = 'The result is ' +str(x) + str(y)\n",
    "print(x,y,z)\n",
    "sign_up = True\n"
   ]
  },
  {
   "cell_type": "code",
   "execution_count": 9,
   "metadata": {},
   "outputs": [
    {
     "name": "stdout",
     "output_type": "stream",
     "text": [
      "<class 'int'> <class 'str'>\n"
     ]
    }
   ],
   "source": [
    "print(type(x),type(z))"
   ]
  },
  {
   "cell_type": "code",
   "execution_count": 13,
   "metadata": {},
   "outputs": [
    {
     "name": "stdout",
     "output_type": "stream",
     "text": [
      "sign_up\n"
     ]
    }
   ],
   "source": [
    "print(\"sign_up\")"
   ]
  },
  {
   "cell_type": "code",
   "execution_count": 14,
   "metadata": {},
   "outputs": [
    {
     "name": "stdout",
     "output_type": "stream",
     "text": [
      "<class 'bool'>\n"
     ]
    }
   ],
   "source": [
    "print(type(sign_up))"
   ]
  },
  {
   "cell_type": "code",
   "execution_count": 17,
   "metadata": {},
   "outputs": [
    {
     "name": "stdout",
     "output_type": "stream",
     "text": [
      "246.45600000000002\n",
      "-0.45600000000000307\n"
     ]
    }
   ],
   "source": [
    "print(x+y)\n",
    "print(x-y)"
   ]
  },
  {
   "cell_type": "code",
   "execution_count": 18,
   "metadata": {},
   "outputs": [
    {
     "name": "stdout",
     "output_type": "stream",
     "text": [
      "123 123.456\n"
     ]
    }
   ],
   "source": []
  },
  {
   "cell_type": "code",
   "execution_count": 23,
   "metadata": {},
   "outputs": [
    {
     "name": "stdout",
     "output_type": "stream",
     "text": [
      "The result is 123123.456\n"
     ]
    }
   ],
   "source": [
    "print(z)"
   ]
  },
  {
   "cell_type": "code",
   "execution_count": 28,
   "metadata": {},
   "outputs": [
    {
     "name": "stdout",
     "output_type": "stream",
     "text": [
      "13\n",
      "I am JEFF Liu\n",
      "JEFF\n"
     ]
    }
   ],
   "source": [
    "z = \"I am JEFF Liu\"\n",
    "print(len(z))\n",
    "print(z[0:14])\n",
    "print(z[5:9])"
   ]
  },
  {
   "cell_type": "code",
   "execution_count": 29,
   "metadata": {},
   "outputs": [
    {
     "name": "stdout",
     "output_type": "stream",
     "text": [
      "I AM JEFF LIU\n"
     ]
    }
   ],
   "source": [
    "a = z.upper()\n",
    "print(a)"
   ]
  },
  {
   "cell_type": "code",
   "execution_count": 31,
   "metadata": {},
   "outputs": [
    {
     "name": "stdout",
     "output_type": "stream",
     "text": [
      "I AM JEFFFF LIU\n"
     ]
    }
   ],
   "source": [
    "a = a.replace(\"JEFF\",\"JEFFFF\")\n",
    "print(a)"
   ]
  },
  {
   "cell_type": "code",
   "execution_count": 54,
   "metadata": {},
   "outputs": [
    {
     "name": "stdout",
     "output_type": "stream",
     "text": [
      "('tuple', 1, 1.1, 1.3, 'tCUHK')\n",
      "[100, 83, 24, 'CUHK']\n"
     ]
    }
   ],
   "source": [
    "tuple1 =('tuple',1,1.1,1.3,'tCUHK')\n",
    "print(tuple1)\n",
    "list1 =[100,83,24,'CUHK']\n",
    "print(list1)"
   ]
  },
  {
   "cell_type": "code",
   "execution_count": 55,
   "metadata": {},
   "outputs": [
    {
     "name": "stdout",
     "output_type": "stream",
     "text": [
      "<class 'tuple'>\n",
      "<class 'list'>\n"
     ]
    }
   ],
   "source": [
    "print(type(tuple1))\n",
    "print(type(list1))"
   ]
  },
  {
   "cell_type": "code",
   "execution_count": 56,
   "metadata": {},
   "outputs": [
    {
     "name": "stdout",
     "output_type": "stream",
     "text": [
      "1.3\n",
      "24\n"
     ]
    }
   ],
   "source": [
    "print(tuple1[3])\n",
    "print(list1[2])"
   ]
  },
  {
   "cell_type": "code",
   "execution_count": 57,
   "metadata": {},
   "outputs": [
    {
     "name": "stdout",
     "output_type": "stream",
     "text": [
      "[100, 83, 24, 'CUHK', [30, 20, 10]]\n"
     ]
    }
   ],
   "source": [
    "list1.append([30,20,10])\n",
    "print(list1)"
   ]
  },
  {
   "cell_type": "code",
   "execution_count": 58,
   "metadata": {},
   "outputs": [
    {
     "name": "stdout",
     "output_type": "stream",
     "text": [
      "[100, 83, 24, 'CUHK', [30, 20, 10], ('tuple', 1, 1.1, 1.3, 'tCUHK')]\n"
     ]
    }
   ],
   "source": [
    "list1.append(tuple1)\n",
    "print(list1)"
   ]
  },
  {
   "cell_type": "code",
   "execution_count": 75,
   "metadata": {},
   "outputs": [
    {
     "name": "stdout",
     "output_type": "stream",
     "text": [
      "{'jeff': 100, 'tony': 80, 'song': 30}\n",
      "dict_keys(['jeff', 'tony', 'song'])\n",
      "dict_values([100, 80, 30])\n",
      "100\n"
     ]
    }
   ],
   "source": [
    "dict1 = {'jeff':100,'tony':80,'song':30}\n",
    "print(dict1)\n",
    "print(dict1.keys())\n",
    "print(dict1.values())\n",
    "print(dict1['jeff'])"
   ]
  },
  {
   "cell_type": "code",
   "execution_count": 76,
   "metadata": {},
   "outputs": [
    {
     "name": "stdout",
     "output_type": "stream",
     "text": [
      "[{'jeff': 100, 'tony': 80, 'song': 30}]\n"
     ]
    }
   ],
   "source": [
    "newlist = []\n",
    "newlist.append(dict1)\n",
    "print(newlist)"
   ]
  },
  {
   "cell_type": "code",
   "execution_count": 78,
   "metadata": {},
   "outputs": [
    {
     "name": "stdout",
     "output_type": "stream",
     "text": [
      "[{'AA': 300, 'BB': 400, 'CC': 500}, {'AA': 200, 'BB': 100, 'CC': 0}]\n"
     ]
    }
   ],
   "source": [
    "test1 = {'AA':300,'BB':400,'CC':500}\n",
    "assignment1 = {'AA':200,'BB':100,'CC':0}\n",
    "newscorelist = []\n",
    "newscorelist.append(test1)\n",
    "newscorelist.append(assignment1)\n",
    "print(newscorelist)"
   ]
  },
  {
   "cell_type": "code",
   "execution_count": 89,
   "metadata": {},
   "outputs": [
    {
     "name": "stdout",
     "output_type": "stream",
     "text": [
      "jeff\n",
      "john\n",
      "jack\n",
      "june\n",
      "[1950.0, 3000.0, 4000.0, 5400.0]\n"
     ]
    }
   ],
   "source": [
    "hr_list = [30.0,40.0,50.0,60.0]\n",
    "rate_list = [65.0,75.0,80.0,90.0]\n",
    "name_list = ['jeff','john','jack','june']\n",
    "index = 0\n",
    "fee_list = []\n",
    "for number in name_list:\n",
    "    hr = hr_list[index]\n",
    "    rate = rate_list[index]\n",
    "    fee = hr * rate\n",
    "    fee_list.append(fee)\n",
    "    print(name_list[index])\n",
    "    index = index +1\n",
    "print(fee_list)"
   ]
  },
  {
   "cell_type": "code",
   "execution_count": 93,
   "metadata": {},
   "outputs": [
    {
     "name": "stdout",
     "output_type": "stream",
     "text": [
      "jeff makes 1950.0\n",
      "jeff\n",
      "john makes 3000.0\n",
      "john\n",
      "jack makes 4000.0\n",
      "jack\n",
      "june makes 5400.0\n",
      "june\n",
      "[1950.0, 3000.0, 4000.0, 5400.0]\n"
     ]
    }
   ],
   "source": [
    "hr_list = [30.0,40.0,50.0,60.0]\n",
    "rate_list = [65.0,75.0,80.0,90.0]\n",
    "name_list = ['jeff','john','jack','june']\n",
    "index = 0\n",
    "fee_list = []\n",
    "for number in name_list:\n",
    "    hr = hr_list[index]\n",
    "    rate = rate_list[index]\n",
    "    fee = hr * rate\n",
    "    fee_list.append(fee)\n",
    "    money_made = name_list[index] + \" makes \" + str(fee) \n",
    "    print(money_made)\n",
    "    print(name_list[index])\n",
    "    index = index +1\n",
    "print(fee_list)"
   ]
  },
  {
   "cell_type": "code",
   "execution_count": 100,
   "metadata": {},
   "outputs": [
    {
     "name": "stdout",
     "output_type": "stream",
     "text": [
      "jeff makes 1950.0\n",
      "jeff\n",
      "john makes 3000.0\n",
      "john\n",
      "jack makes 4000.0\n",
      "jack\n",
      "june makes 5400.0\n",
      "june\n",
      "[['jeff', 'john', 'jack', 'june'], [1950.0, 3000.0, 4000.0, 5400.0]]\n",
      "[1950.0, 3000.0, 4000.0, 5400.0]\n"
     ]
    }
   ],
   "source": [
    "hr_list = [30.0,40.0,50.0,60.0]\n",
    "rate_list = [65.0,75.0,80.0,90.0]\n",
    "name_list = ['jeff','john','jack','june']\n",
    "index = 0\n",
    "fee_list = []\n",
    "for number in name_list:\n",
    "    hr = hr_list[index]\n",
    "    rate = rate_list[index]\n",
    "    fee = hr * rate\n",
    "    fee_list.append(fee)\n",
    "    money_made = name_list[index] + \" makes \" + str(fee) \n",
    "    print(money_made)\n",
    "    print(name_list[index])\n",
    "    index = index +1\n",
    "money_list = []\n",
    "money_list.append(name_list)\n",
    "money_list.append(fee_list)\n",
    "print(money_list)\n",
    "print(fee_list)"
   ]
  },
  {
   "cell_type": "code",
   "execution_count": 98,
   "metadata": {},
   "outputs": [
    {
     "name": "stdout",
     "output_type": "stream",
     "text": [
      "{'a': 'apple', 'b': 'betty', 'c': 'cherry'}\n",
      "a apple\n",
      "b betty\n",
      "c cherry\n"
     ]
    }
   ],
   "source": [
    "dict1 = {'a':'apple','b':'betty','c':'cherry'}\n",
    "print(dict1)\n",
    "for key in dict1:\n",
    "    print(key, dict1[key])"
   ]
  },
  {
   "cell_type": "code",
   "execution_count": 103,
   "metadata": {},
   "outputs": [
    {
     "name": "stdout",
     "output_type": "stream",
     "text": [
      "jeff 1950.0\n",
      "john 3000.0\n",
      "jack 4000.0\n",
      "june 5400.0\n"
     ]
    }
   ],
   "source": [
    "hr_list = [30.0,40.0,50.0,60.0]\n",
    "rate_list = [65.0,75.0,80.0,90.0]\n",
    "name_list = ['jeff','john','jack','june']\n",
    "hrs = {'jeff':30.0,'john':40.0,'jack':50.0,'june':60.0}\n",
    "rates = {'jeff':65.0,'john':75.0,'jack':80.0,'june':90.0}\n",
    "for i in name_list:\n",
    "    fees = hrs[i] * rates[i]\n",
    "    print(i,fees)"
   ]
  },
  {
   "cell_type": "code",
   "execution_count": 115,
   "metadata": {},
   "outputs": [
    {
     "name": "stdout",
     "output_type": "stream",
     "text": [
      "jeff 1950.0\n",
      "john 3000.0\n",
      "jack makes more than 3000, so unfair\n",
      "june makes more than 3000, so unfair\n",
      "YEAH\n"
     ]
    }
   ],
   "source": [
    "for i in name_list:\n",
    "    fees = hrs[i] * rates[i]\n",
    "    if fees <= 3000.0:\n",
    "        print(i,fees)\n",
    "        index += 1\n",
    "    else:\n",
    "        print(i,\"makes more than 3000, so unfair\")\n",
    "        index += 1\n",
    "print('YEAH')        "
   ]
  },
  {
   "cell_type": "code",
   "execution_count": 136,
   "metadata": {},
   "outputs": [],
   "source": [
    "import requests\n",
    "import csv\n",
    "from bs4 import BeautifulSoup\n",
    "\n",
    "quote_page = requests.get('http://startupbeat.hkej.com/?tag=fintech&paged=1')\n",
    "soup = BeautifulSoup(quote_page.content,'html.parser')\n",
    "data =[]\n",
    "\n",
    "for article in soup.find_all('div',class_='archive-text'):\n",
    "    url = article.a.get('href')\n",
    "    post_date = article.div.ul.li.text\n",
    "    data.append((url, post_date))\n",
    "\n",
    "    \n",
    "with open('demo.csv','w') as csv_file:\n",
    "    writer = csv.writer(csv_file)\n",
    "    header = ('url', 'post_date')\n",
    "    writer.writerow(header)\n",
    "    for url, post_date in data:\n",
    "        writer.writerow((url, post_date))\n",
    "    \n",
    "    "
   ]
  },
  {
   "cell_type": "code",
   "execution_count": 140,
   "metadata": {},
   "outputs": [
    {
     "ename": "SyntaxError",
     "evalue": "invalid syntax (<ipython-input-140-4de8d3848ff7>, line 14)",
     "output_type": "error",
     "traceback": [
      "\u001b[0;36m  File \u001b[0;32m\"<ipython-input-140-4de8d3848ff7>\"\u001b[0;36m, line \u001b[0;32m14\u001b[0m\n\u001b[0;31m    with open('libdemo.csv','w') as csv_file:\u001b[0m\n\u001b[0m       ^\u001b[0m\n\u001b[0;31mSyntaxError\u001b[0m\u001b[0;31m:\u001b[0m invalid syntax\n"
     ]
    }
   ],
   "source": [
    "import requests\n",
    "import csv\n",
    "from bs4 import BeautifulSoup\n",
    "\n",
    "quote_page = requests.get('http://www.lib.cuhk.edu.hk/en/about/news')\n",
    "soup = BeautifulSoup(quote_page.content,'html.parser')\n",
    "data =[]\n",
    "\n",
    "for article in soup.find_all('div',class_='item-list'):\n",
    "    url = article.ul.li.div.span.a.get('href')\n",
    "    data.append((url)\n",
    "\n",
    "    \n",
    "with open('libdemo.csv','w') as csv_file:\n",
    "    writer = csv.writer(csv_file)\n",
    "    header = ('url')\n",
    "    writer.writerow(header)\n",
    "    for url in data:\n",
    "        writer.writerow((url)"
   ]
  },
  {
   "cell_type": "code",
   "execution_count": null,
   "metadata": {},
   "outputs": [],
   "source": []
  },
  {
   "cell_type": "code",
   "execution_count": 142,
   "metadata": {},
   "outputs": [
    {
     "name": "stderr",
     "output_type": "stream",
     "text": [
      "/Users/jeffliu/anaconda3/lib/python3.6/site-packages/matplotlib/cbook/deprecation.py:106: MatplotlibDeprecationWarning: Adding an axes using the same arguments as a previous axes currently reuses the earlier instance.  In a future version, a new instance will always be created and returned.  Meanwhile, this warning can be suppressed, and the future behavior ensured, by passing a unique label to each axes instance.\n",
      "  warnings.warn(message, mplDeprecation, stacklevel=1)\n"
     ]
    },
    {
     "ename": "AttributeError",
     "evalue": "'function' object has no attribute 'xticks'",
     "output_type": "error",
     "traceback": [
      "\u001b[0;31m---------------------------------------------------------------------------\u001b[0m",
      "\u001b[0;31mAttributeError\u001b[0m                            Traceback (most recent call last)",
      "\u001b[0;32m<ipython-input-142-e48e6c31f1dd>\u001b[0m in \u001b[0;36m<module>\u001b[0;34m()\u001b[0m\n\u001b[1;32m      5\u001b[0m \u001b[0;34m\u001b[0m\u001b[0m\n\u001b[1;32m      6\u001b[0m \u001b[0max\u001b[0m \u001b[0;34m=\u001b[0m \u001b[0mplt\u001b[0m\u001b[0;34m.\u001b[0m\u001b[0msubplot\u001b[0m\u001b[0;34m(\u001b[0m\u001b[0;34m)\u001b[0m\u001b[0;34m\u001b[0m\u001b[0m\n\u001b[0;32m----> 7\u001b[0;31m \u001b[0max\u001b[0m\u001b[0;34m.\u001b[0m\u001b[0mset\u001b[0m\u001b[0;34m.\u001b[0m\u001b[0mxticks\u001b[0m\u001b[0;34m(\u001b[0m\u001b[0;34m[\u001b[0m\u001b[0;36m0\u001b[0m\u001b[0;34m,\u001b[0m\u001b[0;36m1\u001b[0m\u001b[0;34m,\u001b[0m\u001b[0;36m2\u001b[0m\u001b[0;34m]\u001b[0m\u001b[0;34m)\u001b[0m\u001b[0;34m\u001b[0m\u001b[0m\n\u001b[0m\u001b[1;32m      8\u001b[0m \u001b[0max\u001b[0m\u001b[0;34m.\u001b[0m\u001b[0mset\u001b[0m\u001b[0;34m.\u001b[0m\u001b[0mxticklabels\u001b[0m\u001b[0;34m(\u001b[0m\u001b[0;34m[\u001b[0m\u001b[0;34m\"tea\"\u001b[0m\u001b[0;34m,\u001b[0m\u001b[0;34m\"soft\"\u001b[0m\u001b[0;34m,\u001b[0m\u001b[0;34m\"wine\"\u001b[0m\u001b[0;34m]\u001b[0m\u001b[0;34m)\u001b[0m\u001b[0;34m\u001b[0m\u001b[0m\n\u001b[1;32m      9\u001b[0m \u001b[0mplt\u001b[0m\u001b[0;34m.\u001b[0m\u001b[0mshow\u001b[0m\u001b[0;34m(\u001b[0m\u001b[0;34m)\u001b[0m\u001b[0;34m\u001b[0m\u001b[0m\n",
      "\u001b[0;31mAttributeError\u001b[0m: 'function' object has no attribute 'xticks'"
     ]
    },
    {
     "data": {
      "image/png": "[encoded data removed]",
      "text/plain": [
       "<matplotlib.figure.Figure at 0x11695c860>"
      ]
     },
     "metadata": {},
     "output_type": "display_data"
    }
   ],
   "source": [
    "from matplotlib import pyplot as plt\n",
    "drinks = [\"tea\",\"soft\",\"wine\"]\n",
    "sales = [34,56,43]\n",
    "plt.bar(range(len(drinks)),sales)\n",
    "\n",
    "ax = plt.subplot()\n",
    "ax.set.xticks([0,1,2])\n",
    "ax.set.xticklabels([\"tea\",\"soft\",\"wine\"])\n",
    "plt.show()"
   ]
  },
  {
   "cell_type": "code",
   "execution_count": null,
   "metadata": {},
   "outputs": [],
   "source": []
  }
 ],
 "metadata": {
  "kernelspec": {
   "display_name": "Python 3",
   "language": "python",
   "name": "python3"
  },
  "language_info": {
   "codemirror_mode": {
    "name": "ipython",
    "version": 3
   },
   "file_extension": ".py",
   "mimetype": "text/x-python",
   "name": "python",
   "nbconvert_exporter": "python",
   "pygments_lexer": "ipython3",
   "version": "3.6.4"
  }
 },
 "nbformat": 4,
 "nbformat_minor": 2
}
